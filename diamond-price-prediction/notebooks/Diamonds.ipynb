{
  "cells": [
    {
      "cell_type": "markdown",
      "metadata": {
        "colab_type": "text",
        "id": "view-in-github"
      },
      "source": [
        "<a href=\"https://colab.research.google.com/github/Pedro-A-D-S/diamonds-price/blob/main/Diamonds.ipynb\" target=\"_parent\"><img src=\"https://colab.research.google.com/assets/colab-badge.svg\" alt=\"Open In Colab\"/></a>"
      ]
    },
    {
      "cell_type": "markdown",
      "metadata": {
        "id": "IJLJgvQ3rBrz"
      },
      "source": [
        "## Introduction\n",
        "\n",
        "This project aims to make an EDA of diamond prices and apply a predictive model for the price."
      ]
    },
    {
      "cell_type": "markdown",
      "metadata": {
        "id": "RnJyL5ERF_68"
      },
      "source": [
        "## EDA"
      ]
    },
    {
      "cell_type": "markdown",
      "metadata": {
        "id": "g_Xq-1WMi936"
      },
      "source": [
        "## Imports"
      ]
    },
    {
      "cell_type": "code",
      "execution_count": null,
      "metadata": {
        "id": "I-4CURO09im-"
      },
      "outputs": [],
      "source": [
        "import pandas as pd\n",
        "import seaborn as sns\n",
        "\n",
        "import matplotlib.pyplot as plt\n",
        "import numpy as np\n",
        "\n",
        "from sklearn.model_selection import train_test_split\n",
        "from sklearn.linear_model import LinearRegression\n",
        "from sklearn import metrics\n",
        "\n",
        "import warnings\n",
        "\n",
        "import plotly.express as px\n",
        "import plotly.graph_objects as go\n",
        "from plotly.subplots import make_subplots"
      ]
    },
    {
      "attachments": {},
      "cell_type": "markdown",
      "metadata": {},
      "source": [
        "# SetUp"
      ]
    },
    {
      "cell_type": "code",
      "execution_count": null,
      "metadata": {},
      "outputs": [],
      "source": [
        "warnings.filterwarnings('ignore')\n",
        "\n",
        "sns.set_palette(\"winter\")\n",
        "sns.set_style(\"darkgrid\")"
      ]
    },
    {
      "cell_type": "markdown",
      "metadata": {
        "id": "-D7gm66dolVT"
      },
      "source": [
        "# Functions"
      ]
    },
    {
      "cell_type": "code",
      "execution_count": null,
      "metadata": {
        "id": "DW6N-HJzrSj1"
      },
      "outputs": [],
      "source": [
        "def plot_quantity(data, col):\n",
        "  ax = sns.set(rc = {'figure.figsize': (10, 6)})\n",
        "  order = data[col].value_counts().index\n",
        "  ax = sns.countplot(x = col, data = data, order = order)\n",
        "  ax.set_title('Quantity of diamonds by {}'.format(col), fontsize = 16)\n",
        "  ax.set_xlabel(f'{col}', fontsize = 14)\n",
        "  ax.set_ylabel('Quantity', fontsize = 14)\n",
        "  ax = ax\n",
        "  return ax"
      ]
    },
    {
      "cell_type": "code",
      "execution_count": null,
      "metadata": {
        "id": "pC4i3A6wvjT3"
      },
      "outputs": [],
      "source": [
        "def mean_price_by_cathegory(data, col):\n",
        "\n",
        "  mean_price_by_cathegory = data.groupby([col]).mean().price.round(2).sort_values(ascending = False).reset_index()\n",
        "  mean_price_by_cathegory = pd.DataFrame(mean_price_by_cathegory)\n",
        "  mean_price_by_cathegory.rename(columns = {'price':'mean price'}, inplace = True)\n",
        "  mean_price_by_cathegory\n",
        "  \n",
        "  return mean_price_by_cathegory"
      ]
    },
    {
      "cell_type": "code",
      "execution_count": null,
      "metadata": {
        "id": "Oh388CyzwsAI"
      },
      "outputs": [],
      "source": [
        "def median_price_by_cathegory(data, col):\n",
        "\n",
        "  median_price_by_cathegory = data.groupby([col]).median().price.round(2).sort_values(ascending = False).reset_index()\n",
        "  median_price_by_cathegory = pd.DataFrame(median_price_by_cathegory)\n",
        "  median_price_by_cathegory.rename(columns = {'price':'median price'}, inplace = True)\n",
        "  median_price_by_cathegory\n",
        "  \n",
        "  return median_price_by_cathegory"
      ]
    },
    {
      "cell_type": "code",
      "execution_count": null,
      "metadata": {
        "id": "UAU5hQEwxcBb"
      },
      "outputs": [],
      "source": [
        "def std_price_by_cathegory(data, col):\n",
        "\n",
        "  std_price_by_clarity = data.groupby([col]).std().price.round(2).sort_values(ascending = False).reset_index()\n",
        "  std_price_by_clarity = pd.DataFrame(std_price_by_clarity)\n",
        "  std_price_by_clarity.rename(columns = {'price':'std of price'}, inplace = True)\n",
        "  std_price_by_clarity\n",
        "\n",
        "  return std_price_by_clarity"
      ]
    },
    {
      "attachments": {},
      "cell_type": "markdown",
      "metadata": {},
      "source": [
        "# Get Data"
      ]
    },
    {
      "cell_type": "code",
      "execution_count": null,
      "metadata": {},
      "outputs": [],
      "source": [
        "diamond = pd.read_csv('../data/01_raw/diamonds.csv')"
      ]
    },
    {
      "cell_type": "code",
      "execution_count": null,
      "metadata": {
        "colab": {
          "base_uri": "https://localhost:8080/",
          "height": 206
        },
        "id": "GRGANvrQ1X5P",
        "outputId": "3a8d076d-ca4b-40e5-bb58-6bf83e9350b5"
      },
      "outputs": [],
      "source": [
        "\n",
        "diamond.head()"
      ]
    },
    {
      "cell_type": "markdown",
      "metadata": {
        "id": "832xtpM2aBq_"
      },
      "source": [
        "# Description of dataset features"
      ]
    },
    {
      "cell_type": "markdown",
      "metadata": {
        "id": "F8OcjH7ZCb91"
      },
      "source": [
        "Carat : Diamond weight in carats (1 carat = 2 grams)\n",
        "\n",
        "Cut : Describes the quality of the diamond's cut. Quality increases in order: Fair, Good, Very Good, Premium, Ideal.\n",
        "\n",
        "Color : Color of the diamond, with D being the best and J being the worst.\n",
        "\n",
        "Clarity: Diamond clarity refers to the lack of flaws and imperfections.\n",
        "\n",
        "Depth : The height of the diamond.\n",
        "\n",
        "Depth: The height of the diamond, measured from the culet (a culet is a flat face on the bottom of a gemstone) to the table, divided by the average girdle diameter. In circular diamonds, there is not one that is perfectly round. Therefore, each diameter is not the same and therefore the average value is taken.\n",
        "\n",
        "Table : The width of the diamond expressed as a percentage of its average diameter.\n",
        "\n",
        "Price : Diamond price in dollars.\n",
        "\n",
        "X : Diamond width in millimeters.\n",
        "\n",
        "Y : Height of the diamond in millimeters.\n",
        "\n",
        "Z : Diamond length in millimeters."
      ]
    },
    {
      "cell_type": "markdown",
      "metadata": {
        "id": "rmcG0GmpXy2g"
      },
      "source": [
        "## Dataset description"
      ]
    },
    {
      "cell_type": "code",
      "execution_count": null,
      "metadata": {
        "colab": {
          "base_uri": "https://localhost:8080/",
          "height": 300
        },
        "id": "nhV10BKZIqAu",
        "outputId": "95b62fc9-4be0-4013-e134-d7bce4ebfe57"
      },
      "outputs": [],
      "source": [
        "description = diamond.describe().round(2)\n",
        "description"
      ]
    },
    {
      "cell_type": "markdown",
      "metadata": {
        "id": "0DeJoE-iQCkz"
      },
      "source": [
        "It is possible to obtain several relevant informations about the analyzed data, such as the average price (mean) of a diamond is almost 4 thousand dollars.\n",
        "\n",
        "However, when comparing the minimum and maximum prices, they have a wide range of values, as indicated by the high standard deviation (std).\n",
        "\n",
        "Another aspect to take into account is the existence of values ​​x = y = z = 0, which makes them unreal since there are no diamonds with these spatial dimensions."
      ]
    },
    {
      "cell_type": "markdown",
      "metadata": {
        "id": "k16nH6UqQ0Hq"
      },
      "source": [
        "## Removing outliers"
      ]
    },
    {
      "cell_type": "code",
      "execution_count": null,
      "metadata": {
        "colab": {
          "base_uri": "https://localhost:8080/"
        },
        "id": "VBdLpOQxiQo6",
        "outputId": "f0ffd297-5c78-426d-b860-7d4245a87fe9"
      },
      "outputs": [],
      "source": [
        "# investigating duplicated\n",
        "diamond.duplicated().sum()"
      ]
    },
    {
      "cell_type": "code",
      "execution_count": null,
      "metadata": {
        "id": "Dp_A74COin7i"
      },
      "outputs": [],
      "source": [
        "# dropping duplicates\n",
        "diamond = diamond.drop_duplicates()"
      ]
    },
    {
      "cell_type": "code",
      "execution_count": null,
      "metadata": {
        "id": "_P82hpW87Z7Z"
      },
      "outputs": [],
      "source": [
        "# removing zeros\n",
        "diamond = diamond[(diamond[['x','y','z']] != 0).all(axis = 1)]"
      ]
    },
    {
      "cell_type": "code",
      "execution_count": null,
      "metadata": {
        "colab": {
          "base_uri": "https://localhost:8080/",
          "height": 300
        },
        "id": "8juqDWx17_mq",
        "outputId": "9993bdc8-176d-409f-df85-6676abdebaf7"
      },
      "outputs": [],
      "source": [
        "# describing after outliers removing\n",
        "diamond.describe().round(2)"
      ]
    },
    {
      "cell_type": "markdown",
      "metadata": {
        "id": "GPM8AXVA8mvh"
      },
      "source": [
        "Now our dataset hasn't zeros in its dimensions."
      ]
    },
    {
      "cell_type": "markdown",
      "metadata": {
        "id": "UWbm52qNqYds"
      },
      "source": [
        "Removing outliers of numerical data"
      ]
    },
    {
      "cell_type": "code",
      "execution_count": null,
      "metadata": {
        "id": "Jjt4swJHpBQJ"
      },
      "outputs": [],
      "source": [
        "# defining series of variable\n",
        "x = diamond['x']\n",
        "\n",
        "# quantiles and interval interquantile\n",
        "Q1 = x.quantile(.45)\n",
        "Q3 = x.quantile(.75)\n",
        "IIQ = Q3 - Q1\n",
        "\n",
        "# lower and upper limits\n",
        "lower_limit = Q1 - 1.5 * IIQ\n",
        "upper_limit = Q3 + 1.5 * IIQ\n",
        "\n",
        "# filtering by limits\n",
        "selection = (x >= lower_limit) & (x <= upper_limit)\n",
        "diamond = diamond[selection]"
      ]
    },
    {
      "cell_type": "code",
      "execution_count": null,
      "metadata": {
        "id": "dSSukGHCpg9J"
      },
      "outputs": [],
      "source": [
        "x = diamond['y']\n",
        "\n",
        "# quantiles and interval interquantile\n",
        "Q1 = x.quantile(.45)\n",
        "Q3 = x.quantile(.75)\n",
        "IIQ = Q3 - Q1\n",
        "\n",
        "# lower and upper limits\n",
        "lower_limit = Q1 - 1.5 * IIQ\n",
        "upper_limit = Q3 + 1.5 * IIQ\n",
        "\n",
        "# filtering by limits\n",
        "selection = (x >= lower_limit) & (x <= upper_limit)\n",
        "diamond = diamond[selection]"
      ]
    },
    {
      "cell_type": "code",
      "execution_count": null,
      "metadata": {
        "id": "RwLm9BbNpg1h"
      },
      "outputs": [],
      "source": [
        "x = diamond['z']\n",
        "\n",
        "# quantiles and interval interquantile\n",
        "Q1 = x.quantile(.45)\n",
        "Q3 = x.quantile(.75)\n",
        "IIQ = Q3 - Q1\n",
        "\n",
        "# lower and upper limits\n",
        "lower_limit = Q1 - 1.5 * IIQ\n",
        "upper_limit = Q3 + 1.5 * IIQ\n",
        "\n",
        "# filtering by limits\n",
        "selection = (x >= lower_limit) & (x <= upper_limit)\n",
        "diamond = diamond[selection]"
      ]
    },
    {
      "cell_type": "code",
      "execution_count": null,
      "metadata": {
        "id": "lnYUS0MzpgvJ"
      },
      "outputs": [],
      "source": [
        "x = diamond['table']\n",
        "\n",
        "# quantiles and interval interquantile\n",
        "Q1 = x.quantile(.45)\n",
        "Q3 = x.quantile(.75)\n",
        "IIQ = Q3 - Q1\n",
        "\n",
        "# lower and upper limits\n",
        "lower_limit = Q1 - 1.5 * IIQ\n",
        "upper_limit = Q3 + 1.5 * IIQ\n",
        "\n",
        "# filtering by limits\n",
        "selection = (x >= lower_limit) & (x <= upper_limit)\n",
        "diamond = diamond[selection]"
      ]
    },
    {
      "cell_type": "code",
      "execution_count": null,
      "metadata": {
        "id": "JIoSMsewpgol"
      },
      "outputs": [],
      "source": [
        "x = diamond['depth']\n",
        "\n",
        "# quantiles and interval interquantile\n",
        "Q1 = x.quantile(.45)\n",
        "Q3 = x.quantile(.75)\n",
        "IIQ = Q3 - Q1\n",
        "\n",
        "# lower and upper limits\n",
        "lower_limit = Q1 - 1.5 * IIQ\n",
        "upper_limit = Q3 + 1.5 * IIQ\n",
        "\n",
        "# filtering by limits\n",
        "selection = (x >= lower_limit) & (x <= upper_limit)\n",
        "diamond = diamond[selection]"
      ]
    },
    {
      "cell_type": "markdown",
      "metadata": {
        "id": "1wt1hTBOQ6Oq"
      },
      "source": [
        "## Getting information"
      ]
    },
    {
      "cell_type": "code",
      "execution_count": null,
      "metadata": {
        "colab": {
          "base_uri": "https://localhost:8080/"
        },
        "id": "8CLpt2-KEgx1",
        "outputId": "e143d066-5f3a-42cf-ff80-05cf34b7e8c4"
      },
      "outputs": [],
      "source": [
        "# looking for null values\n",
        "diamond.isnull().sum()"
      ]
    },
    {
      "cell_type": "markdown",
      "metadata": {
        "id": "39-2swDgWrAU"
      },
      "source": [
        "The dataset has no null data."
      ]
    },
    {
      "cell_type": "markdown",
      "metadata": {
        "id": "-8qZspvBbhAj"
      },
      "source": [
        "## Extracting descriptive price statistics by category"
      ]
    },
    {
      "cell_type": "markdown",
      "metadata": {
        "id": "ldKHLm96DN8W"
      },
      "source": [
        "# Cathegories by price"
      ]
    },
    {
      "cell_type": "code",
      "execution_count": null,
      "metadata": {
        "colab": {
          "base_uri": "https://localhost:8080/",
          "height": 517
        },
        "id": "k2vUp0465R28",
        "outputId": "16665790-e063-45d4-99e5-16137f6128e7"
      },
      "outputs": [],
      "source": [
        "fig = px.histogram(data_frame = diamond, x = 'color', text_auto = '.3s',\n",
        "                   template = 'plotly_dark', range_y = [0, 11000])\n",
        "\n",
        "fig.update_xaxes(categoryorder = 'total descending')\n",
        "fig.update_yaxes(showticklabels = False)\n",
        "\n",
        "fig.update_layout(\n",
        "    title = {\n",
        "        'text': \"Quantity of Diamonds by Color\",\n",
        "        'y': 0.97,\n",
        "        'x': 0.5,\n",
        "        'xanchor': 'center',\n",
        "        'yanchor': 'top'},\n",
        "    xaxis_title = 'Colors',\n",
        "    yaxis_title = 'Quantity',\n",
        "    width = 1200,\n",
        "    height = 500,\n",
        "    font_family=\"Arial\",\n",
        "    font_color=\"White\",\n",
        "    font = dict(size = 18),\n",
        "    title_font_family=\"Arial\",\n",
        "    title_font_color= \"White\")\n",
        "\n",
        "fig.update_traces(textposition = 'outside',textfont_size = 16, marker_color = 'Red')\n",
        "\n",
        "fig.show()"
      ]
    },
    {
      "cell_type": "markdown",
      "metadata": {
        "id": "qzsCpHeLVgfj"
      },
      "source": [
        "# Clarity"
      ]
    },
    {
      "cell_type": "code",
      "execution_count": null,
      "metadata": {
        "colab": {
          "base_uri": "https://localhost:8080/",
          "height": 517
        },
        "id": "f-lExkJnhoXw",
        "outputId": "2d793181-d18b-4266-bff1-3a926f2d62ee"
      },
      "outputs": [],
      "source": [
        "fig = px.histogram(diamond, x='clarity', template = 'plotly_dark',\n",
        "                   text_auto = '.3s', range_y = [0, 10000])\n",
        "\n",
        "fig.update_xaxes(categoryorder = 'total descending')\n",
        "#fig.update_yaxes(showticklabels = False)\n",
        "\n",
        "fig.update_layout(\n",
        "    title = {\n",
        "        'text': \"Diamonds by clarity\",\n",
        "        'y': 0.97,\n",
        "        'x': 0.5,\n",
        "        'xanchor': 'center',\n",
        "        'yanchor': 'top'},\n",
        "    xaxis_title = 'Clarity',\n",
        "    yaxis_title = 'Quantity',\n",
        "    width = 1200,\n",
        "    height = 500,\n",
        "    font_family=\"Arial\",\n",
        "    font_color=\"White\",\n",
        "    font = dict(size = 18),\n",
        "    title_font_family=\"Arial\",\n",
        "    title_font_color= \"White\")\n",
        "\n",
        "fig.update_traces(textposition = 'outside',textfont_size = 16, marker_color = 'Red')\n",
        "\n",
        "fig.show()"
      ]
    },
    {
      "cell_type": "markdown",
      "metadata": {
        "id": "w8vMclK4HH_M"
      },
      "source": [
        "It is possible to notice the decrease in diamonds' number with clarity."
      ]
    },
    {
      "cell_type": "code",
      "execution_count": null,
      "metadata": {
        "colab": {
          "base_uri": "https://localhost:8080/",
          "height": 517
        },
        "id": "0NBbO1Mise--",
        "outputId": "164376e6-3cfb-4608-bd12-7dcfe75083b2"
      },
      "outputs": [],
      "source": [
        "fig = px.histogram(diamond, x='clarity', color=\"color\", barmode='group',\n",
        "                   template = 'plotly_dark',\n",
        "                   text_auto = '.3s')\n",
        "\n",
        "fig.update_xaxes(categoryorder = 'total descending')\n",
        "#fig.update_yaxes(showticklabels = False)\n",
        "\n",
        "fig.update_layout(\n",
        "    title = {\n",
        "        'text': \"Diamonds by clarity and color destribuition\",\n",
        "        'y': 0.97,\n",
        "        'x': 0.5,\n",
        "        'xanchor': 'center',\n",
        "        'yanchor': 'top'},\n",
        "    xaxis_title = 'Clarity',\n",
        "    yaxis_title = 'Quantity',\n",
        "    width = 1200,\n",
        "    height = 500,\n",
        "    font_family=\"Arial\",\n",
        "    font_color=\"White\",\n",
        "    font = dict(size = 18),\n",
        "    title_font_family=\"Arial\",\n",
        "    title_font_color= \"White\")\n",
        "\n",
        "fig.update_traces(textposition = 'outside',textfont_size = 16)\n",
        "\n",
        "fig.show()"
      ]
    },
    {
      "cell_type": "markdown",
      "metadata": {
        "id": "iqbNweYFFvXt"
      },
      "source": [
        "There is a predominance of E and G colors in the cuts with the highest amounts of diamonds in the dataset, which is attenuated as these amounts decrease."
      ]
    },
    {
      "cell_type": "code",
      "execution_count": null,
      "metadata": {
        "colab": {
          "base_uri": "https://localhost:8080/",
          "height": 517
        },
        "id": "bluJNZB73Dme",
        "outputId": "2a420810-5f96-4a73-b8ec-651e275b564c"
      },
      "outputs": [],
      "source": [
        "fig = px.histogram(diamond, x='clarity', color=\"cut\", barmode='group',\n",
        "                   template = 'plotly_dark',\n",
        "                   text_auto = '.3s', range_y = [0, 5000])\n",
        "\n",
        "fig.update_xaxes(categoryorder = 'total descending')\n",
        "# fig.update_yaxes(showticklabels = False)\n",
        "\n",
        "fig.update_layout(\n",
        "    title = {\n",
        "        'text': \"Diamonds by clarity and cut destribuition\",\n",
        "        'y': 0.97,\n",
        "        'x': 0.5,\n",
        "        'xanchor': 'center',\n",
        "        'yanchor': 'top'},\n",
        "    xaxis_title = 'Clarity',\n",
        "    yaxis_title = 'Quantity',\n",
        "    width = 1200,\n",
        "    height = 500,\n",
        "    font_family=\"Arial\",\n",
        "    font_color=\"White\",\n",
        "    font = dict(size = 18),\n",
        "    title_font_family=\"Arial\",\n",
        "    title_font_color= \"White\")\n",
        "\n",
        "fig.update_traces(textposition = 'outside',textfont_size = 16)\n",
        "\n",
        "fig.show()"
      ]
    },
    {
      "cell_type": "code",
      "execution_count": null,
      "metadata": {
        "id": "wZiBjel6iZq1"
      },
      "outputs": [],
      "source": [
        "mean_price = diamond.groupby(by = 'clarity').agg({'price':'mean'}).round(2).reset_index().sort_values(by = 'price',\n",
        "                                                                                         ascending = False)\n",
        "mean_price['percent'] = ((mean_price['price'] / mean_price['price'].sum()) * 100).round(2)\n",
        "mean_price['acc_sum'] = mean_price['percent'].cumsum().round(2)"
      ]
    },
    {
      "cell_type": "code",
      "execution_count": null,
      "metadata": {
        "colab": {
          "base_uri": "https://localhost:8080/",
          "height": 517
        },
        "id": "dvzU7rpFi1mv",
        "outputId": "e1639768-bcb8-4fa0-ce05-980ee3e61eba"
      },
      "outputs": [],
      "source": [
        "fig = px.bar(data_frame = mean_price, x = 'clarity', y = 'price', text_auto = '.3s',\n",
        "             template = 'plotly_dark', range_y = [0, 5000])\n",
        "\n",
        "fig.update_xaxes(categoryorder = 'total descending')\n",
        "\n",
        "fig.update_layout(\n",
        "    title = {\n",
        "        'text': 'Mean Price by Clarity',\n",
        "        'y': 0.97,\n",
        "        'x': 0.5,\n",
        "        'xanchor': 'center',\n",
        "        'yanchor': 'top'},\n",
        "    xaxis_title = 'Clarity',\n",
        "    yaxis_title = 'Quantity',\n",
        "    width = 1200,\n",
        "    height = 500,\n",
        "    font_family=\"Arial\",\n",
        "    font_color=\"White\",\n",
        "    font = dict(size = 18),\n",
        "    title_font_family=\"Arial\",\n",
        "    title_font_color= \"White\")\n",
        "\n",
        "fig.update_traces(textposition = 'outside',textfont_size = 16, marker_color = 'Red')\n",
        "\n",
        "fig.show()"
      ]
    },
    {
      "cell_type": "markdown",
      "metadata": {
        "id": "fwvOa8i0GC5o"
      },
      "source": [
        "As we can see, the mean price decreases with the decrease of quality in clarity."
      ]
    },
    {
      "cell_type": "markdown",
      "metadata": {
        "id": "EHnzjczOVl9T"
      },
      "source": [
        "# Cut"
      ]
    },
    {
      "cell_type": "code",
      "execution_count": null,
      "metadata": {
        "colab": {
          "base_uri": "https://localhost:8080/",
          "height": 517
        },
        "id": "B0FSAfUfsn_M",
        "outputId": "35ba8847-b0d0-44e6-b658-2bd09c1bec9c"
      },
      "outputs": [],
      "source": [
        "fig = px.histogram(diamond, x='cut', template = 'plotly_dark',\n",
        "                   text_auto = '.3s', range_y = [0, 22000])\n",
        "\n",
        "fig.update_xaxes(categoryorder = 'total descending')\n",
        "\n",
        "fig.update_layout(\n",
        "    title = {\n",
        "        'text': \"Diamonds by cut\",\n",
        "        'y': 0.97,\n",
        "        'x': 0.5,\n",
        "        'xanchor': 'center',\n",
        "        'yanchor': 'top'},\n",
        "    xaxis_title = 'Cut',\n",
        "    yaxis_title = 'Quantity',\n",
        "    width = 1200,\n",
        "    height = 500,\n",
        "    font_family=\"Arial\",\n",
        "    font_color=\"White\",\n",
        "    font = dict(size = 18),\n",
        "    title_font_family=\"Arial\",\n",
        "    title_font_color= \"White\")\n",
        "\n",
        "fig.update_traces(textposition = 'outside', textfont_size = 16, marker_color = 'Red')\n",
        "\n",
        "fig.show()"
      ]
    },
    {
      "cell_type": "markdown",
      "metadata": {
        "id": "YtLsZTdCMDkf"
      },
      "source": [
        "The diamonds quantity decreases with the quality of the cut."
      ]
    },
    {
      "cell_type": "code",
      "execution_count": null,
      "metadata": {
        "colab": {
          "base_uri": "https://localhost:8080/",
          "height": 517
        },
        "id": "GNH0HriwtKh3",
        "outputId": "635d76e8-a67a-40f7-9230-323cc584921c"
      },
      "outputs": [],
      "source": [
        "fig = px.histogram(diamond, x='cut', color=\"color\", barmode='group',\n",
        "                   text_auto = '.2s', template = 'plotly_dark')\n",
        "\n",
        "fig.update_xaxes(categoryorder = 'total descending')\n",
        "# fig.update_yaxes(showticklabels = False)\n",
        "\n",
        "fig.update_layout(\n",
        "    title = {\n",
        "        'text': \"Diamonds by clarity and cut destribuition\",\n",
        "        'y': 0.97,\n",
        "        'x': 0.5,\n",
        "        'xanchor': 'center',\n",
        "        'yanchor': 'top'},\n",
        "    xaxis_title = 'Clarity',\n",
        "    yaxis_title = 'Quantity',\n",
        "    width = 1200,\n",
        "    height = 500,\n",
        "    font_family=\"Arial\",\n",
        "    font_color=\"White\",\n",
        "    font = dict(size = 18),\n",
        "    title_font_family=\"Arial\",\n",
        "    title_font_color= \"White\")\n",
        "\n",
        "fig.update_traces(textposition = 'outside',textfont_size = 16)\n",
        "\n",
        "fig.show()"
      ]
    },
    {
      "cell_type": "markdown",
      "metadata": {
        "id": "KETrOaV6FRRW"
      },
      "source": [
        "This is how the colors are distributed in relation to the types of cuts. There is a predominance of G and E colors in the first cuts and this behavior is accentuated along the distributions."
      ]
    },
    {
      "cell_type": "code",
      "execution_count": null,
      "metadata": {
        "colab": {
          "base_uri": "https://localhost:8080/",
          "height": 542
        },
        "id": "amBXdHelt94K",
        "outputId": "8a09096b-0bcb-427e-dc29-8c29963bb51e"
      },
      "outputs": [],
      "source": [
        "fig = make_subplots(rows = 2, cols = 2)\n",
        "\n",
        "fig = make_subplots(rows = 2,\n",
        "                    cols = 2,\n",
        "                    specs=[[{}, {}],\n",
        "                    [{\"colspan\": 2}, None]],\n",
        "                    subplot_titles = [\n",
        "                        'Mean Price',  # 1. subplot title\n",
        "                        'Median Price',# 2. subplot title\n",
        "                        'Std Price'    # 3. subplot title\n",
        "])\n",
        "\n",
        "# add the 1st graph by specifying which row and column it will come to\n",
        "fig.add_trace(go.Bar(x=diamond_mean_price_by_cut['cut'], \n",
        "                     y= diamond_mean_price_by_cut['mean price'], textposition='auto', name='Mean'), row = 1, col = 1)\n",
        "# add the 2nd graph\n",
        "fig.add_trace(go.Bar(x=diamond_median_price_by_cut['cut'], \n",
        "                     y= diamond_median_price_by_cut['median price'], textposition='auto', name='Median'), row = 1, col = 2)\n",
        "# add the 3th graph\n",
        "fig.add_trace(go.Bar(x = diamond_std_price_by_cut['cut'], \n",
        "                     y = diamond_std_price_by_cut['std of price'], textposition='auto', name='Std'), row = 2, col = 1)\n",
        "\n",
        "# Update xaxis properties\n",
        "fig.update_xaxes(title_text=\"Cut\", row=1, col=1)\n",
        "fig.update_xaxes(title_text=\"Cut\", row=1, col=2)\n",
        "fig.update_xaxes(title_text=\"Cut\", row=2, col=1)\n",
        "\n",
        "# Update yaxis properties\n",
        "fig.update_yaxes(title_text=\"Price (USS)\", row=1, col=1)\n",
        "fig.update_yaxes(title_text=\"Price (USS)\", row=1, col=2)\n",
        "fig.update_yaxes(title_text=\"Price (USS)\", row=2, col=1)\n",
        "\n",
        "fig.update_layout(title = 'Descriptive Statistics of Price (cut)', title_x = 0.5)"
      ]
    },
    {
      "cell_type": "markdown",
      "metadata": {
        "id": "zS134oPBBkKb"
      },
      "source": [
        "As well as clarity, cut also intuitively has a linear relationship to price."
      ]
    },
    {
      "cell_type": "markdown",
      "metadata": {
        "id": "K55rF32vVooP"
      },
      "source": [
        "# Color"
      ]
    },
    {
      "cell_type": "code",
      "execution_count": null,
      "metadata": {
        "colab": {
          "base_uri": "https://localhost:8080/",
          "height": 517
        },
        "id": "sihZaQM5vPAk",
        "outputId": "f98f25be-7e65-4dd3-f0f8-18c698727331"
      },
      "outputs": [],
      "source": [
        "fig = px.histogram(data_frame = diamond, x = 'color', text_auto = '.3s',\n",
        "                   template = 'plotly_dark', range_y = [0, 10000]\n",
        "                   )\n",
        "\n",
        "fig.update_xaxes(categoryorder = 'total descending')\n",
        "fig.update_yaxes(showticklabels = False)\n",
        "\n",
        "fig.update_layout(\n",
        "    title = {\n",
        "        'text': \"Quantity of Diamonds by Color\",\n",
        "        'y': 0.97,\n",
        "        'x': 0.5,\n",
        "        'xanchor': 'center',\n",
        "        'yanchor': 'top'},\n",
        "    xaxis_title = 'Colors',\n",
        "    yaxis_title = 'Quantity',\n",
        "    width = 1200,\n",
        "    height = 500,\n",
        "    font_family=\"Arial\",\n",
        "    font_color=\"White\",\n",
        "    font = dict(size = 18),\n",
        "    title_font_family=\"Arial\",\n",
        "    title_font_color= \"White\")\n",
        "\n",
        "fig.update_traces(textposition = 'outside',textfont_size = 16, marker_color = 'Red')\n",
        "\n",
        "fig.show()"
      ]
    },
    {
      "cell_type": "code",
      "execution_count": null,
      "metadata": {
        "colab": {
          "base_uri": "https://localhost:8080/",
          "height": 517
        },
        "id": "NcJO5y2Ovoj4",
        "outputId": "1770e236-75d1-4ea9-d421-10e3bb4809ee"
      },
      "outputs": [],
      "source": [
        "fig = px.histogram(diamond, x='color', color=\"cut\", barmode='group',\n",
        "                   text_auto = True, template = 'plotly_dark')\n",
        "\n",
        "fig.update_xaxes(categoryorder = 'total descending')\n",
        "\n",
        "fig.update_layout(\n",
        "    title = {\n",
        "        'text': \"Diamonds by color and cut destribuition\",\n",
        "        'y': 0.97,\n",
        "        'x': 0.5,\n",
        "        'xanchor': 'center',\n",
        "        'yanchor': 'top'},\n",
        "    xaxis_title = 'Colors',\n",
        "    yaxis_title = 'Quantity',\n",
        "    width = 1200,\n",
        "    height = 500,\n",
        "    font_family=\"Arial\",\n",
        "    font_color=\"White\",\n",
        "    font = dict(size = 18),\n",
        "    title_font_family=\"Arial\",\n",
        "    title_font_color= \"White\")\n",
        "\n",
        "fig.update_traces(textposition = 'outside',textfont_size = 16)\n",
        "\n",
        "fig.show()"
      ]
    },
    {
      "cell_type": "code",
      "execution_count": null,
      "metadata": {
        "colab": {
          "base_uri": "https://localhost:8080/",
          "height": 517
        },
        "id": "Ya-ceKi2v0gZ",
        "outputId": "544e305f-9423-48c6-a472-c9b4c7e384e7"
      },
      "outputs": [],
      "source": [
        "fig = px.histogram(diamond, x='color', color=\"clarity\", barmode='group',\n",
        "                   text_auto = True, template = 'plotly_dark')\n",
        "\n",
        "fig.update_xaxes(categoryorder = 'total descending')\n",
        "\n",
        "fig.update_layout(\n",
        "    title = {\n",
        "        'text': \"Diamonds by color and clarity destribuition\",\n",
        "        'y': 0.97,\n",
        "        'x': 0.5,\n",
        "        'xanchor': 'center',\n",
        "        'yanchor': 'top'},\n",
        "    xaxis_title = 'Colors',\n",
        "    yaxis_title = 'Quantity',\n",
        "    width = 1200,\n",
        "    height = 500,\n",
        "    font_family=\"Arial\",\n",
        "    font_color=\"White\",\n",
        "    font = dict(size = 18),\n",
        "    title_font_family=\"Arial\",\n",
        "    title_font_color= \"White\")\n",
        "\n",
        "fig.update_traces(textposition = 'outside',textfont_size = 16)\n",
        "\n",
        "fig.show()"
      ]
    },
    {
      "cell_type": "markdown",
      "metadata": {
        "id": "Qs5MGWhgBzVd"
      },
      "source": [
        "As well as the two previous variables, color also shows a linear decrease with price."
      ]
    },
    {
      "cell_type": "markdown",
      "metadata": {
        "id": "y6lMuCf7VvH2"
      },
      "source": [
        "# Correlations between variables"
      ]
    },
    {
      "cell_type": "markdown",
      "metadata": {
        "id": "RSMp8ZwyB5eE"
      },
      "source": [
        "Considering that the descriptive statistics have linear relationships with the price, we will check the correlations between the variables and test the hypothesis raised by the study of the graphs."
      ]
    },
    {
      "cell_type": "code",
      "execution_count": null,
      "metadata": {
        "id": "D9g6r0Ka-Bxi"
      },
      "outputs": [],
      "source": [
        "correlation = diamond.corr().round(2)"
      ]
    },
    {
      "cell_type": "code",
      "execution_count": null,
      "metadata": {
        "colab": {
          "base_uri": "https://localhost:8080/",
          "height": 542
        },
        "id": "UyDMHDdzxiiX",
        "outputId": "f3a922af-3da0-4dad-f1d3-b5979d95a118"
      },
      "outputs": [],
      "source": [
        "fig = px.imshow(correlation, text_auto = True, template = 'plotly_dark')\n",
        "\n",
        "fig.update_layout(\n",
        "    title = {\n",
        "        'text': \"Correlation Heatmap\",\n",
        "        'y': 0.97,\n",
        "        'x': 0.5,\n",
        "        'xanchor': 'center',\n",
        "        'yanchor': 'top'}\n",
        ")\n",
        "\n",
        "fig.show()"
      ]
    },
    {
      "cell_type": "markdown",
      "metadata": {
        "id": "imxsLYP8VLHf"
      },
      "source": [
        "In fact, it is possible to notice a strong correlation between the variables carat, x, y and z with the price as seen in the heatmap and by analyzing the regression lines of the variables in relation to the price."
      ]
    },
    {
      "cell_type": "markdown",
      "metadata": {
        "id": "37pBRcVAOuBr"
      },
      "source": [
        "# Frequency Distributions"
      ]
    },
    {
      "cell_type": "markdown",
      "metadata": {
        "id": "Pd75hFJPE1Vc"
      },
      "source": [
        "Let us now study the distribution of diamonds present in the dataset with respect to the variables carat and depth."
      ]
    },
    {
      "cell_type": "code",
      "execution_count": null,
      "metadata": {
        "colab": {
          "base_uri": "https://localhost:8080/",
          "height": 517
        },
        "id": "9SGx4NpAylN2",
        "outputId": "e98a333d-3657-4edb-f2cd-3f4eb17f98b1"
      },
      "outputs": [],
      "source": [
        "fig = px.histogram(data_frame = diamond,\n",
        "                   x = 'carat', template = 'plotly_dark')\n",
        "fig.update_layout(\n",
        "    title = {\n",
        "        'text': \"Diamonds distribuition by carat\",\n",
        "        'y': 0.97,\n",
        "        'x': 0.5,\n",
        "        'xanchor': 'center',\n",
        "        'yanchor': 'top'},\n",
        "    xaxis_title = 'Carat',\n",
        "    yaxis_title = 'Frequency',\n",
        "    width = 1200,\n",
        "    height = 500,\n",
        "    font_family=\"Arial\",\n",
        "    font_color=\"White\",\n",
        "    title_font_family=\"Arial\",\n",
        "    title_font_color= \"White\",\n",
        "    font = dict(size = 18),\n",
        "    legend_title_font_color = \"green\")\n",
        "\n",
        "fig.update_traces(marker_color = 'Red')\n",
        "\n",
        "fig.show()"
      ]
    },
    {
      "cell_type": "code",
      "execution_count": null,
      "metadata": {
        "colab": {
          "base_uri": "https://localhost:8080/",
          "height": 517
        },
        "id": "-gqprZQgzZkB",
        "outputId": "32ddd41f-47da-4bf7-a360-f85f465a04aa"
      },
      "outputs": [],
      "source": [
        "fig = px.histogram(data_frame = diamond,\n",
        "                   x = 'depth', template = 'plotly_dark')\n",
        "fig.update_layout(\n",
        "    title = {\n",
        "        'text': \"Diamonds distribuition by depth\",\n",
        "        'y': 0.97,\n",
        "        'x': 0.5,\n",
        "        'xanchor': 'center',\n",
        "        'yanchor': 'top'},\n",
        "    xaxis_title = 'Depth',\n",
        "    yaxis_title = 'Frequency',\n",
        "    width = 1200,\n",
        "    height = 500,\n",
        "    font_family=\"Arial\",\n",
        "    font_color=\"White\",\n",
        "    title_font_family=\"Arial\",\n",
        "    title_font_color= \"White\",\n",
        "    font = dict(size = 18),\n",
        "    legend_title_font_color = \"green\")\n",
        "\n",
        "fig.update_traces(marker_color = 'Red')\n",
        "\n",
        "fig.show()"
      ]
    },
    {
      "cell_type": "markdown",
      "metadata": {
        "id": "KBoYqQ2SF7jD"
      },
      "source": [
        "# Linear regression model"
      ]
    },
    {
      "cell_type": "markdown",
      "metadata": {
        "id": "AY2ISbdVGjJU"
      },
      "source": [
        "Finding a high correlation with price and variables, let's use Python's sklearn library to try to predict price values ​​with respect to these variables."
      ]
    },
    {
      "cell_type": "code",
      "execution_count": null,
      "metadata": {
        "id": "TY5O2RwJ-RkS"
      },
      "outputs": [],
      "source": [
        "X1 = diamond[['carat', 'x', 'y', 'z']]\n",
        "y1 = diamond[['price']]"
      ]
    },
    {
      "cell_type": "code",
      "execution_count": null,
      "metadata": {
        "id": "VRvZDhVq_pnV"
      },
      "outputs": [],
      "source": [
        "X1_train, X1_test, y1_train, y1_test = train_test_split(X1, y1, test_size = 0.2, random_state = 2811)"
      ]
    },
    {
      "cell_type": "code",
      "execution_count": null,
      "metadata": {
        "id": "U0unxrHVA-oZ"
      },
      "outputs": [],
      "source": [
        "model1 = LinearRegression()"
      ]
    },
    {
      "cell_type": "code",
      "execution_count": null,
      "metadata": {
        "colab": {
          "base_uri": "https://localhost:8080/"
        },
        "id": "rc2SbpvzBNBD",
        "outputId": "5545c3c2-846f-42e1-b4e2-ba3551132fb9"
      },
      "outputs": [],
      "source": [
        "model1.fit(X1_train, y1_train)"
      ]
    },
    {
      "cell_type": "code",
      "execution_count": null,
      "metadata": {
        "colab": {
          "base_uri": "https://localhost:8080/"
        },
        "id": "b_MUOAafP22W",
        "outputId": "a3d3a858-b746-40ac-f9c5-f24d45a2a820"
      },
      "outputs": [],
      "source": [
        "model1.score(X1_train, y1_train)"
      ]
    },
    {
      "cell_type": "code",
      "execution_count": null,
      "metadata": {
        "colab": {
          "base_uri": "https://localhost:8080/"
        },
        "id": "T2GEIbcpFfZ1",
        "outputId": "b629a2e8-7b85-453b-aed8-cac9c3bdd907"
      },
      "outputs": [],
      "source": [
        "model1.score(X1_test, y1_test)"
      ]
    },
    {
      "cell_type": "code",
      "execution_count": null,
      "metadata": {
        "id": "QaDeMbWMouYh"
      },
      "outputs": [],
      "source": [
        "train_LR_accuracy = model1.score(X1_train, y1_train)\n",
        "test_LR_accuracy = model1.score(X1_test, y1_test)"
      ]
    },
    {
      "cell_type": "code",
      "execution_count": null,
      "metadata": {
        "id": "zbZ7U3W5Tjhv"
      },
      "outputs": [],
      "source": [
        "percentage_test_LR_accuracy = (model1.score(X1_test, y1_test)) * 100"
      ]
    },
    {
      "cell_type": "code",
      "execution_count": null,
      "metadata": {
        "colab": {
          "base_uri": "https://localhost:8080/"
        },
        "id": "bBOK3CzkGxTt",
        "outputId": "aea90814-a6de-4029-aefb-6799e19acfc8"
      },
      "outputs": [],
      "source": [
        "print('Training Accuracy: {:.2f}%'.format((train_LR_accuracy) * 100))\n",
        "print('Test Accuracy: {:.2f}%'.format((test_LR_accuracy) * 100))"
      ]
    },
    {
      "cell_type": "markdown",
      "metadata": {
        "id": "eO2leyKiGHY5"
      },
      "source": [
        "# \"Linearized\" Linear Regression Model"
      ]
    },
    {
      "cell_type": "markdown",
      "metadata": {
        "id": "vsU8EHmSHF7v"
      },
      "source": [
        "It is possible to improve the accuracy of our model by linearizing the variables using the logarithm function as follows:"
      ]
    },
    {
      "cell_type": "code",
      "execution_count": null,
      "metadata": {
        "id": "AxxyCjaHCBzX"
      },
      "outputs": [],
      "source": [
        "diamond['log_price'] = np.log(diamond['price'])\n",
        "diamond['log_carat'] = np.log(diamond['carat'])\n",
        "diamond['log_x'] = np.log(diamond['x'])\n",
        "diamond['log_y'] = np.log(diamond['y'])\n",
        "diamond['log_z'] = np.log(diamond['z'])"
      ]
    },
    {
      "cell_type": "code",
      "execution_count": null,
      "metadata": {
        "colab": {
          "base_uri": "https://localhost:8080/",
          "height": 517
        },
        "id": "It9536HVzhyD",
        "outputId": "c9bdfcfd-788b-4748-c394-593852b63fdb"
      },
      "outputs": [],
      "source": [
        "fig = px.histogram(data_frame = diamond,\n",
        "                   x = 'price', template = 'plotly_dark')\n",
        "fig.update_layout(\n",
        "    title = {\n",
        "        'text': \"Diamonds distribuition by price\",\n",
        "        'y': 0.97,\n",
        "        'x': 0.5,\n",
        "        'xanchor': 'center',\n",
        "        'yanchor': 'top'},\n",
        "    xaxis_title = 'Price',\n",
        "    yaxis_title = 'Frequency',\n",
        "    width = 1200,\n",
        "    height = 500,\n",
        "    font_family=\"Arial\",\n",
        "    font_color=\"White\",\n",
        "    title_font_family=\"Arial\",\n",
        "    title_font_color= \"White\",\n",
        "    font = dict(size = 18),\n",
        "    legend_title_font_color = \"green\")\n",
        "\n",
        "fig.update_traces(marker_color = 'Red')\n",
        "\n",
        "fig.show()"
      ]
    },
    {
      "cell_type": "markdown",
      "metadata": {
        "id": "I4wfiCIHHQJ7"
      },
      "source": [
        "This is the price distribution before linearizing."
      ]
    },
    {
      "cell_type": "code",
      "execution_count": null,
      "metadata": {
        "colab": {
          "base_uri": "https://localhost:8080/",
          "height": 517
        },
        "id": "CMiNVRnYr4Y3",
        "outputId": "bc3a5d5d-eaf5-4498-fd20-36e9ab328b68"
      },
      "outputs": [],
      "source": [
        "fig = px.histogram(data_frame = diamond,\n",
        "                   x = 'log_price', template = 'plotly_dark')\n",
        "fig.update_layout(\n",
        "    title = {\n",
        "        'text': \"Diamonds distribuition by price (log)\",\n",
        "        'y': 0.97,\n",
        "        'x': 0.5,\n",
        "        'xanchor': 'center',\n",
        "        'yanchor': 'top'},\n",
        "    xaxis_title = 'Price',\n",
        "    yaxis_title = 'Frequency',\n",
        "    width = 1200,\n",
        "    height = 500,\n",
        "    font_family=\"Arial\",\n",
        "    font_color=\"White\",\n",
        "    title_font_family=\"Arial\",\n",
        "    title_font_color= \"White\",\n",
        "    font = dict(size = 18),\n",
        "    legend_title_font_color = \"green\")\n",
        "\n",
        "fig.update_traces(marker_color = 'Red')\n",
        "\n",
        "fig.show()"
      ]
    },
    {
      "cell_type": "markdown",
      "metadata": {
        "id": "pcj4pOeWHUo7"
      },
      "source": [
        "This is the distribution of prices after linearization, much closer to a normal distribution than in the previous case."
      ]
    },
    {
      "cell_type": "code",
      "execution_count": null,
      "metadata": {
        "colab": {
          "base_uri": "https://localhost:8080/",
          "height": 195
        },
        "id": "aj9dJSKgDRbX",
        "outputId": "b269d344-1b6b-49b9-8347-d61de6efc8dc"
      },
      "outputs": [],
      "source": [
        "ax = sns.set(rc = {'figure.figsize': (10, 6)})\n",
        "ax = sns.pairplot(data = diamond, y_vars = 'log_price', x_vars = ['log_carat', 'log_x', 'log_y', 'log_z'], kind = 'reg')"
      ]
    },
    {
      "cell_type": "code",
      "execution_count": null,
      "metadata": {
        "id": "Sj0k3TyODwRA"
      },
      "outputs": [],
      "source": [
        "X2 = diamond[['log_carat', 'log_x', 'log_y', 'log_z']]\n",
        "y2 = diamond[['log_price']]"
      ]
    },
    {
      "cell_type": "code",
      "execution_count": null,
      "metadata": {
        "id": "6d6KYuFRDlON"
      },
      "outputs": [],
      "source": [
        "X2_train, X2_test, y2_train, y2_test = train_test_split(X2, y2, test_size = 0.2, random_state = 2811)"
      ]
    },
    {
      "cell_type": "code",
      "execution_count": null,
      "metadata": {
        "id": "G6hBjW8bEOhk"
      },
      "outputs": [],
      "source": [
        "model2 = LinearRegression()"
      ]
    },
    {
      "cell_type": "code",
      "execution_count": null,
      "metadata": {
        "colab": {
          "base_uri": "https://localhost:8080/"
        },
        "id": "wJQTaZTlEP0i",
        "outputId": "67b7fe5b-c249-4010-d914-67b3133fcc6a"
      },
      "outputs": [],
      "source": [
        "model2.fit(X2_train, y2_train)"
      ]
    },
    {
      "cell_type": "code",
      "execution_count": null,
      "metadata": {
        "colab": {
          "base_uri": "https://localhost:8080/"
        },
        "id": "rD4DhRWwRoY2",
        "outputId": "d53d19e5-98b8-4b73-b18e-cde510a76c4f"
      },
      "outputs": [],
      "source": [
        "model2.score(X2_train, y2_train)"
      ]
    },
    {
      "cell_type": "code",
      "execution_count": null,
      "metadata": {
        "colab": {
          "base_uri": "https://localhost:8080/"
        },
        "id": "ECD6D_3YFRTz",
        "outputId": "bb924f81-2454-40e9-ce03-1eaf0a08fd37"
      },
      "outputs": [],
      "source": [
        "model2.score(X2_test, y2_test)"
      ]
    },
    {
      "cell_type": "code",
      "execution_count": null,
      "metadata": {
        "id": "bKuDocKwpezH"
      },
      "outputs": [],
      "source": [
        "percentage_model2_train = (model2.score(X2_train, y2_train) * 100).round(2)\n",
        "percentage_model2_test = (model2.score(X2_test, y2_test) * 100).round(2)"
      ]
    },
    {
      "cell_type": "code",
      "execution_count": null,
      "metadata": {
        "colab": {
          "base_uri": "https://localhost:8080/"
        },
        "id": "7zvkX3skpirN",
        "outputId": "aedabfd1-21cc-4ba8-c910-05de2454c917"
      },
      "outputs": [],
      "source": [
        "print('The accuracy of the linearized model in the training data was {}%.'.format(percentage_model2_train))\n",
        "print('The accuracy of the linearized model in the testing data was {}%.'.format(percentage_model2_test))"
      ]
    },
    {
      "cell_type": "markdown",
      "metadata": {
        "id": "psN8fCZZkj3t"
      },
      "source": [
        "## Comparing the models"
      ]
    },
    {
      "cell_type": "code",
      "execution_count": null,
      "metadata": {
        "id": "TnPMWFe3t8Cn"
      },
      "outputs": [],
      "source": [
        "variation = (percentage_model2_test - percentage_test_LR_accuracy).round(2)"
      ]
    },
    {
      "cell_type": "code",
      "execution_count": null,
      "metadata": {
        "colab": {
          "base_uri": "https://localhost:8080/"
        },
        "id": "VKDgltlOp5TX",
        "outputId": "2c95199c-637f-42fc-e184-23d613ecf578"
      },
      "outputs": [],
      "source": [
        "print('The accuracy of the model was increased by {}%.'.format(variation))"
      ]
    }
  ],
  "metadata": {
    "colab": {
      "authorship_tag": "ABX9TyMjHuAEgiDpBg+KXdYcmxUc",
      "collapsed_sections": [
        "-8qZspvBbhAj"
      ],
      "include_colab_link": true,
      "name": "Diamonds",
      "provenance": [],
      "toc_visible": true
    },
    "kernelspec": {
      "display_name": "Python 3",
      "name": "python3"
    },
    "language_info": {
      "codemirror_mode": {
        "name": "ipython",
        "version": 3
      },
      "file_extension": ".py",
      "mimetype": "text/x-python",
      "name": "python",
      "nbconvert_exporter": "python",
      "pygments_lexer": "ipython3",
      "version": "3.10.11"
    }
  },
  "nbformat": 4,
  "nbformat_minor": 0
}
